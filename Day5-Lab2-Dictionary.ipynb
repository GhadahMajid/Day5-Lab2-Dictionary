{
 "cells": [
  {
   "cell_type": "markdown",
   "id": "64d353c0",
   "metadata": {},
   "source": [
    "# Day5-Lab2-Dictionary\n",
    "> **Ghadah Alabduljabbar**"
   ]
  },
  {
   "cell_type": "markdown",
   "id": "96b28c3f",
   "metadata": {},
   "source": [
    "Build a phone book program that receives the phone number, and returns the name of the owner. \n",
    "You can follow the table below:\n",
    "\n",
    "| Name    | Number      |\n",
    "| -------- | ---------- |\n",
    "| Amal     | 1111111111 |\n",
    "| Mohammed | 2222222222 |\n",
    "| Khadijah | 3333333333 |\n",
    "| Abdullah  | 4444444444 |\n",
    "| Rawan    | 5555555555 |\n",
    "| Faisal   | 6666666666 |\n",
    "| Layla    | 7777777777 |\n",
    "\n",
    "\n",
    "- If the number exists, print the owner. Otherwise, print \"Sorry, the number is not found\".\n",
    "- If the number is less or more than 10 numbers, print \"This is invalid number\".\n",
    "- If the number contains letters or symbols, print \"This is invalid number\"."
   ]
  },
  {
   "cell_type": "code",
   "execution_count": 1,
   "id": "0956fa7d",
   "metadata": {},
   "outputs": [
    {
     "data": {
      "text/plain": [
       "{'Name': ['Amal',\n",
       "  'Mohammed',\n",
       "  'Khadijah',\n",
       "  'Abdillah',\n",
       "  'Rawan',\n",
       "  'Faisal',\n",
       "  'Layla'],\n",
       " 'Number': [1111111111,\n",
       "  2222222222,\n",
       "  3333333333,\n",
       "  4444444444,\n",
       "  5555555555,\n",
       "  6666666666,\n",
       "  7777777777]}"
      ]
     },
     "execution_count": 1,
     "metadata": {},
     "output_type": "execute_result"
    }
   ],
   "source": [
    "PohneBook = {\"Name\":['Amal','Mohammed','Khadijah','Abdillah','Rawan','Faisal','Layla'],\n",
    "             \"Number\":[1111111111,2222222222,3333333333,4444444444,5555555555,6666666666,7777777777]};\n",
    "PohneBook"
   ]
  },
  {
   "cell_type": "code",
   "execution_count": 2,
   "id": "85e2820b",
   "metadata": {},
   "outputs": [
    {
     "name": "stdout",
     "output_type": "stream",
     "text": [
      "Enter a Phone Number: 2231\n",
      "This is invalid number\n",
      "Enter a Phone Number: 55444536262783859674653\n",
      "This is invalid number\n",
      "Enter a Phone Number: 5543fdtf$\n",
      "This is invalid number (Should only be numbers)\n",
      "Enter a Phone Number: 5555555555\n",
      "Rawan\n"
     ]
    }
   ],
   "source": [
    "while(True):\n",
    "    PhoneNum = input(\"Enter a Phone Number: \")\n",
    "    if not PhoneNum.isdigit():\n",
    "        print(\"This is invalid number (Should only be numbers)\")\n",
    "        continue\n",
    "    else :\n",
    "        strphone = int(PhoneNum)\n",
    "        \n",
    "    if len(PhoneNum) != 10 :\n",
    "        print(\"This is invalid number\")\n",
    "        continue\n",
    "    elif strphone in PohneBook['Number']:\n",
    "        i = PohneBook['Number'].index(strphone)\n",
    "        print(PohneBook['Name'][i])\n",
    "        break\n",
    "    else :\n",
    "        print(\"Sorry, the number is not found\")"
   ]
  }
 ],
 "metadata": {
  "kernelspec": {
   "display_name": "Python 3 (ipykernel)",
   "language": "python",
   "name": "python3"
  },
  "language_info": {
   "codemirror_mode": {
    "name": "ipython",
    "version": 3
   },
   "file_extension": ".py",
   "mimetype": "text/x-python",
   "name": "python",
   "nbconvert_exporter": "python",
   "pygments_lexer": "ipython3",
   "version": "3.9.7"
  }
 },
 "nbformat": 4,
 "nbformat_minor": 5
}
